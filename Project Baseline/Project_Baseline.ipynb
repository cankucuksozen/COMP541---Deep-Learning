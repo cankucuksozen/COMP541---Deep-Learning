{
 "cells": [
  {
   "cell_type": "code",
   "execution_count": 1,
   "metadata": {},
   "outputs": [
    {
     "name": "stderr",
     "output_type": "stream",
     "text": [
      "┌ Warning: `@add_arg_table` is deprecated, use `@add_arg_table!` instead\n",
      "└ @ ArgParse In[1]:5\n"
     ]
    }
   ],
   "source": [
    "using Pkg\n",
    "for p in (\"Knet\",\"ArgParse\",\"Images\",\"ImageMagick\", \"MAT\")\n",
    "    haskey(Pkg.installed(),p) || Pkg.add(p)\n",
    "end\n",
    "include(\"resnet.jl\")\n",
    "using Knet, ArgParse, MAT, .ResNet, Images, Random\n",
    "import Base: length, size, iterate"
   ]
  },
  {
   "cell_type": "code",
   "execution_count": 2,
   "metadata": {},
   "outputs": [
    {
     "name": "stderr",
     "output_type": "stream",
     "text": [
      "┌ Info: Loading imagenet-resnet-101-dag.mat...\n",
      "└ @ Main.ResNet /home/cankucuksozen/.julia/packages/Knet/ALUfa/data/imagenet.jl:14\n"
     ]
    },
    {
     "data": {
      "text/plain": [
       "Dict{String,Any} with 4 entries:\n",
       "  \"meta\"   => Dict{String,Any}(\"classes\"=>Dict{String,Any}(\"name\"=>Any[\"n014407…\n",
       "  \"params\" => Dict{String,Any}(\"name\"=>Any[\"conv1_filter\" \"bn_conv1_mult\" … \"fc…\n",
       "  \"vars\"   => Dict{String,Any}(\"name\"=>Any[\"data\" \"conv1\" … \"fc1000\" \"prob\"],\"p…\n",
       "  \"layers\" => Dict{String,Any}(\"name\"=>Any[\"conv1\" \"bn_conv1\" … \"fc1000\" \"prob\"…"
      ]
     },
     "execution_count": 2,
     "metadata": {},
     "output_type": "execute_result"
    }
   ],
   "source": [
    "model = matconvnet(\"imagenet-resnet-101-dag\")"
   ]
  },
  {
   "cell_type": "code",
   "execution_count": 3,
   "metadata": {},
   "outputs": [],
   "source": [
    "struct resnet\n",
    "    w\n",
    "    ms\n",
    "end"
   ]
  },
  {
   "cell_type": "code",
   "execution_count": 4,
   "metadata": {},
   "outputs": [],
   "source": [
    "function resnet(model)\n",
    "    w, ms = ResNet.get_params(model[\"params\"], Array{Float32})\n",
    "    return resnet(w, ms)\n",
    "end\n",
    "\n",
    "function (r::resnet)(x)\n",
    "    res = ResNet.resnet101\n",
    "    y = res(r.w, x, r.ms)   \n",
    "    return y\n",
    "end\n",
    "\n",
    "function predict(scores)\n",
    "    pred = [j[1] for j in argmax(scores,dims = 1)]\n",
    "    return pred\n",
    "end\n",
    "\n",
    "function (r::resnet)(x,y)\n",
    "    scores = r(x)\n",
    "    loss = nll(scores, y)\n",
    "    return loss\n",
    "end\n",
    "    "
   ]
  },
  {
   "cell_type": "code",
   "execution_count": 5,
   "metadata": {},
   "outputs": [
    {
     "data": {
      "text/plain": [
       "preprocess_img (generic function with 1 method)"
      ]
     },
     "execution_count": 5,
     "metadata": {},
     "output_type": "execute_result"
    }
   ],
   "source": [
    "function preprocess_img(img, average_img)\n",
    "    \n",
    "    new_size = ntuple(i->div(size(img,i)*224,minimum(size(img))),2)\n",
    "    a1 = Images.imresize(img, new_size)\n",
    "    i1 = div(size(a1,1)-224,2)\n",
    "    j1 = div(size(a1,2)-224,2)\n",
    "    b1 = a1[i1+1:i1+224,j1+1:j1+224]\n",
    "    c1 = channelview(b1)\n",
    "    d1 = convert(Array{Float32}, c1)\n",
    "    e1 = reshape(d1, (224,224,3,1))\n",
    "    f1 = (255 * e1 .- data.avgimg)\n",
    "    g1 = permutedims(f1, [2,1,3,4])\n",
    "    \n",
    "    return g1\n",
    "\n",
    "end"
   ]
  },
  {
   "cell_type": "code",
   "execution_count": 6,
   "metadata": {},
   "outputs": [],
   "source": [
    "struct imagenet_minibatch\n",
    "    classes\n",
    "    class_to_label\n",
    "    class_descriptions\n",
    "    data_path\n",
    "    samples_list\n",
    "    batchsize\n",
    "    shuffle\n",
    "    mode\n",
    "    ninstances \n",
    "    avgimg\n",
    "end"
   ]
  },
  {
   "cell_type": "code",
   "execution_count": 16,
   "metadata": {},
   "outputs": [
    {
     "data": {
      "text/plain": [
       "imagenet_minibatch"
      ]
     },
     "execution_count": 16,
     "metadata": {},
     "output_type": "execute_result"
    }
   ],
   "source": [
    "function imagenet_minibatch(model; batchsize = 4, shuffle = true, mode = \"train\")\n",
    "    \n",
    "    root_path = \"/media/cankucuksozen/CAN HD/Can/image_net/imagenet-object-localization-challenge/ILSVRC/\"\n",
    "    samples_path = joinpath(root_path, \"ImageSets/CLS-LOC/\")\n",
    "    data_path = joinpath(root_path, \"Data/CLS-LOC/train\")\n",
    "    \n",
    "    classes = model[\"meta\"][\"classes\"][\"name\"]\n",
    "    labels = reshape(collect(1:length(classes)),(1,:))\n",
    "    class_to_label = Dict(classes .=> labels)\n",
    "    \n",
    "    class_descriptions = model[\"meta\"][\"classes\"][\"description\"]\n",
    "    \n",
    "    avgimg = model[\"meta\"][\"normalization\"][\"averageImage\"]\n",
    "    avgimg = convert(Array{Float32}, avgimg) \n",
    "    \n",
    "    if mode == \"train\"\n",
    "        trn_smp_txt_path = joinpath(samples_path, \"train_cls.txt\")\n",
    "        trn_samples_file = open(trn_smp_txt_path)\n",
    "        trn_samples = readlines(trn_samples_file)\n",
    "        trn_ninstances = length(trn_samples)\n",
    "    end\n",
    "    \n",
    "    return imagenet_minibatch(classes, class_to_label, class_descriptions, data_path, trn_samples, \n",
    "                                batchsize, shuffle, mode, trn_ninstances, avgimg)\n",
    "end"
   ]
  },
  {
   "cell_type": "code",
   "execution_count": 17,
   "metadata": {},
   "outputs": [
    {
     "data": {
      "text/plain": [
       "length (generic function with 194 methods)"
      ]
     },
     "execution_count": 17,
     "metadata": {},
     "output_type": "execute_result"
    }
   ],
   "source": [
    "function length(d::imagenet_minibatch)\n",
    "    batch_count, remains = divrem(d.ninstances, d.batchsize)\n",
    "    return (remains == 0 ? batch_count : batch_count + 1)\n",
    "end"
   ]
  },
  {
   "cell_type": "code",
   "execution_count": 18,
   "metadata": {},
   "outputs": [
    {
     "data": {
      "text/plain": [
       "iterate (generic function with 397 methods)"
      ]
     },
     "execution_count": 18,
     "metadata": {},
     "output_type": "execute_result"
    }
   ],
   "source": [
    "function iterate(d::imagenet_minibatch, \n",
    "    state=ifelse( d.shuffle, randperm(d.ninstances), collect(1:d.ninstances)))\n",
    "\n",
    "    inds = state; \n",
    "    inds_len = length(inds) \n",
    "    max_ind = 0\n",
    "    \n",
    "    if inds_len == 0 \n",
    "        return nothing\n",
    "    else\n",
    "        batch_img = []\n",
    "        batch_label = []\n",
    "        max_ind = min(inds_len, d.batchsize)\n",
    "        \n",
    "        for i in range(1, stop = max_ind)\n",
    "            samp = d.samples_list[inds[i]]\n",
    "            class = split(samp, \"/\")[1]\n",
    "            label = d.class_to_label[class]\n",
    "            img_ext = (split(samp, \" \")[1]) * \".JPEG\"\n",
    "            img_path = joinpath(d.data_path, img_ext)\n",
    "            img = Images.load(img_path)\n",
    "            img = preprocess_img(img, d.avgimg)\n",
    "            img = KnetArray(img)\n",
    "            push!(batch_img, img)\n",
    "            push!(batch_label, label)\n",
    "        end\n",
    "        \n",
    "        img = cat(batch_img..., dims = 4)\n",
    "        labels = hcat(batch_label...)\n",
    "\n",
    "        deleteat!(inds, 1:max_ind)\n",
    "\n",
    "        return ((img,labels), inds)\n",
    "    end\n",
    "end"
   ]
  },
  {
   "cell_type": "code",
   "execution_count": 19,
   "metadata": {},
   "outputs": [
    {
     "data": {
      "text/plain": [
       "rand_minibatch (generic function with 1 method)"
      ]
     },
     "execution_count": 19,
     "metadata": {},
     "output_type": "execute_result"
    }
   ],
   "source": [
    "function rand_minibatch(d::imagenet_minibatch)\n",
    "    \n",
    "    inds = randperm(d.ninstances)\n",
    "    batch_img = []\n",
    "    batch_label = []\n",
    "    \n",
    "    for i in range(1, stop = d.batchsize)\n",
    "        samp = d.samples_list[inds[i]]\n",
    "        class = split(samp, \"/\")[1]\n",
    "        label = d.class_to_label[class]\n",
    "        img_ext = (split(samp, \" \")[1]) * \".JPEG\"\n",
    "        img_path = joinpath(d.data_path, img_ext)\n",
    "        img = Images.load(img_path)\n",
    "        img = preprocess_img(img, d.avgimg)\n",
    "        img = KnetArray(img)\n",
    "        push!(batch_img, img)\n",
    "        push!(batch_label, label)\n",
    "    end\n",
    "        \n",
    "    img = cat(batch_img..., dims = 4)\n",
    "    labels = hcat(batch_label...)\n",
    "\n",
    "    return (img,labels)\n",
    "end"
   ]
  },
  {
   "cell_type": "code",
   "execution_count": 20,
   "metadata": {},
   "outputs": [],
   "source": [
    "resnet101 = resnet(model);\n",
    "data = imagenet_minibatch(model);"
   ]
  },
  {
   "cell_type": "code",
   "execution_count": 21,
   "metadata": {},
   "outputs": [],
   "source": [
    "mb = rand_minibatch(data);"
   ]
  },
  {
   "cell_type": "code",
   "execution_count": 22,
   "metadata": {
    "scrolled": true
   },
   "outputs": [
    {
     "data": {
      "text/plain": [
       "1×4 Array{Int64,2}:\n",
       " 130  369  342  306"
      ]
     },
     "execution_count": 22,
     "metadata": {},
     "output_type": "execute_result"
    }
   ],
   "source": [
    "x = KnetArray(mb[1])\n",
    "y = mb[2]"
   ]
  },
  {
   "cell_type": "code",
   "execution_count": 23,
   "metadata": {},
   "outputs": [
    {
     "data": {
      "text/plain": [
       "1000×4 KnetArray{Float32,2}:\n",
       " -0.883756    -2.56079     1.0308    -1.61341 \n",
       "  1.28838      0.485057    1.17118    2.52391 \n",
       " -1.60018      0.507563   -1.13792   -2.17837 \n",
       " -2.6587      -3.00223    -0.42736   -3.65635 \n",
       " -3.28124     -1.03732    -2.788     -0.827654\n",
       " -1.95902     -1.58864    -0.912486   0.690081\n",
       " -0.0641573   -0.752815    1.22915    0.862188\n",
       "  0.537021     0.975576    1.05255    2.90911 \n",
       " -2.35892     -1.16602    -1.35082    3.13888 \n",
       "  0.780459    -0.0830567   1.41386    1.47531 \n",
       " -2.78058     -0.287055   -1.57793    2.26129 \n",
       "  1.25589      0.713824    1.73066    0.440039\n",
       "  2.06584      0.21744     0.515058   3.93743 \n",
       "  ⋮                                           \n",
       " -1.58394     -1.1853     -1.4788    -0.957123\n",
       " -3.81353     -1.28941    -4.14675    0.361152\n",
       " -1.73637     -1.73484    -1.64258   -2.21791 \n",
       "  0.72724     -2.0316      2.05737    1.87932 \n",
       " -0.841031     0.96663    -1.26284    1.61306 \n",
       "  0.617865    -2.17288     1.82758    1.7016  \n",
       " -3.14557     -4.08182    -1.9172    -0.783661\n",
       " -1.41731     -2.4538     -0.733294  -1.45963 \n",
       " -0.910418    -1.83817     1.20987   -1.01603 \n",
       " -0.00525434  -0.718334   -0.421391   0.581576\n",
       "  0.145846    -1.05264    -0.399822   0.329902\n",
       "  2.96461      2.50556     2.80292    2.57155 "
      ]
     },
     "execution_count": 23,
     "metadata": {},
     "output_type": "execute_result"
    }
   ],
   "source": [
    "scores = resnet101(x)"
   ]
  },
  {
   "cell_type": "code",
   "execution_count": 24,
   "metadata": {
    "scrolled": true
   },
   "outputs": [
    {
     "data": {
      "text/plain": [
       "10.4539585f0"
      ]
     },
     "execution_count": 24,
     "metadata": {},
     "output_type": "execute_result"
    }
   ],
   "source": [
    "loss = resnet101(x,y)"
   ]
  },
  {
   "cell_type": "code",
   "execution_count": null,
   "metadata": {},
   "outputs": [],
   "source": []
  },
  {
   "cell_type": "code",
   "execution_count": null,
   "metadata": {},
   "outputs": [],
   "source": []
  }
 ],
 "metadata": {
  "kernelspec": {
   "display_name": "Julia 1.2.0",
   "language": "julia",
   "name": "julia-1.2"
  },
  "language_info": {
   "file_extension": ".jl",
   "mimetype": "application/julia",
   "name": "julia",
   "version": "1.2.0"
  }
 },
 "nbformat": 4,
 "nbformat_minor": 4
}
